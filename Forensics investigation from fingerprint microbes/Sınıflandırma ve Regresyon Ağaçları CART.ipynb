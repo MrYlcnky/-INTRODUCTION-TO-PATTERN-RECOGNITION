{
 "cells": [
  {
   "cell_type": "code",
   "execution_count": 1,
   "id": "1b65ae56",
   "metadata": {},
   "outputs": [
    {
     "name": "stderr",
     "output_type": "stream",
     "text": [
      "C:\\Users\\fbuse\\AppData\\Local\\Temp\\ipykernel_29280\\2523850030.py:7: DtypeWarning: Columns (0,1,2,3,4,5,6,7,8,9,10,11,12,13,14,15,16,17,18,19,20,21,22,23,24,25,26,27,28,29,30,31,32,33,34,35,36,37,38,39,40,41,42,43,44,45,46,47,48,49,50,51,52,53,54,55,56,57,58,59,60,61,62,63,64,65,66,67,68,69,70,71,72,73,74,75,76,77,78,79,80,81,82,83,84,85,86,87,88,89,90,91,92,93,94,95,96,97,98,99,100,101,102,103,104,105,106,107,108,109,110,111,112,113,114,115,116,117,118,119,120,121,122,123,124,125,126,127,128,129,130,131,132,133,134,135,136,137,138,139,140,141,142,143,144,145,146,147,148,149,150,151,152,153,154,155,156,157,158,159,160,161,162,163,164,165,166,167,168,169,170,171,172,173,174,175,176,177,178,179,180,181,182,183,184,185,186,187,188,189,190,191,192,193,194,195,196,197,198,199,200,201,202,203,204,205,206,207,208,209,210,211,212,213,214,215,216,217,218,219,220,221,222,223,224,225,226,227,228,229,230,231,232,233,234,235,236,237,238,239,240,241,242,243,244,245,246,247,248,249,250,251,252,253,254,255,256,257,258,259,260,261,262,263,264,265,266,267,268,269,270) have mixed types. Specify dtype option on import or set low_memory=False.\n",
      "  data = pd.read_csv(\"otu.csv\")\n"
     ]
    },
    {
     "ename": "NameError",
     "evalue": "name 'LabelEncoder' is not defined",
     "output_type": "error",
     "traceback": [
      "\u001b[1;31m---------------------------------------------------------------------------\u001b[0m",
      "\u001b[1;31mNameError\u001b[0m                                 Traceback (most recent call last)",
      "Cell \u001b[1;32mIn[1], line 9\u001b[0m\n\u001b[0;32m      7\u001b[0m data \u001b[38;5;241m=\u001b[39m pd\u001b[38;5;241m.\u001b[39mread_csv(\u001b[38;5;124m\"\u001b[39m\u001b[38;5;124motu.csv\u001b[39m\u001b[38;5;124m\"\u001b[39m)\n\u001b[0;32m      8\u001b[0m transposed_data \u001b[38;5;241m=\u001b[39m data\u001b[38;5;241m.\u001b[39mtranspose()\n\u001b[1;32m----> 9\u001b[0m le \u001b[38;5;241m=\u001b[39m LabelEncoder()\n\u001b[0;32m     10\u001b[0m y \u001b[38;5;241m=\u001b[39m transposed_data\u001b[38;5;241m.\u001b[39miloc[:, \u001b[38;5;241m0\u001b[39m]\u001b[38;5;241m.\u001b[39mvalues\n\u001b[0;32m     11\u001b[0m encoded_y \u001b[38;5;241m=\u001b[39m le\u001b[38;5;241m.\u001b[39mfit_transform(y)\n",
      "\u001b[1;31mNameError\u001b[0m: name 'LabelEncoder' is not defined"
     ]
    }
   ],
   "source": [
    "import pandas as pd\n",
    "from sklearn.tree import DecisionTreeClassifier\n",
    "from sklearn.metrics import roc_curve, roc_auc_score, confusion_matrix, accuracy_score\n",
    "import matplotlib.pyplot as plt\n",
    "from sklearn.model_selection import ShuffleSplit\n",
    "from sklearn.preprocessing import LabelEncoder, MinMaxScaler\n",
    "\n",
    "data = pd.read_csv(\"otu.csv\")\n",
    "transposed_data = data.transpose()\n",
    "le = LabelEncoder()\n",
    "y = transposed_data.iloc[:, 0].values\n",
    "encoded_y = le.fit_transform(y)\n",
    "y = encoded_y.reshape(271, 1)\n",
    "x = data.drop([0])\n",
    "transposed_x = x.transpose()\n",
    "scaler = MinMaxScaler()\n",
    "scaled_x = scaler.fit_transform(transposed_x)\n",
    "new_x = pd.DataFrame(scaled_x)\n",
    "\n"
   ]
  },
  {
   "cell_type": "code",
   "execution_count": null,
   "id": "6619e09a",
   "metadata": {},
   "outputs": [],
   "source": [
    "#Classification And Regression Trees\n",
    "shuffler = ShuffleSplit(n_splits=3, train_size=0.8, test_size=0.2, random_state=42)\n",
    "cart_model = DecisionTreeClassifier(criterion='gini', random_state=1)\n",
    "\n",
    "train_index, test_index = next(shuffler.split(new_x, y))\n",
    "x_train, x_test = new_x.iloc[train_index], new_x.iloc[test_index]\n",
    "y_train, y_test = y[train_index], y[test_index]\n",
    "\n",
    "# CART modelini eğitme\n",
    "cart_model.fit(x_train, y_train.ravel())\n",
    "y_pred_cart = cart_model.predict(x_test)\n",
    "y_probs_cart = cart_model.predict_proba(x_test)[:, 1]\n",
    "\n",
    "# Doğruluk (accuracy) ve diğer ölçümleri hesaplama\n",
    "accuracy_cart = accuracy_score(y_test, y_pred_cart)\n",
    "fpr_cart, tpr_cart, thresholds_cart = roc_curve(y_test, y_pred_cart)\n",
    "auc_cart = roc_auc_score(y_test, y_pred_cart)\n",
    "tn_cart, fp_cart, fn_cart, tp_cart = confusion_matrix(y_test, y_pred_cart).ravel()\n",
    "sensitivity_cart = tp_cart / (tp_cart + fn_cart)\n",
    "specificity_cart = tn_cart / (tn_cart + fp_cart)\n",
    "\n",
    "print(\"CART Accuracy:\", accuracy_cart)\n",
    "print(\"CART Sensitivity:\", sensitivity_cart)\n",
    "print(\"CART Specificity:\", specificity_cart)\n",
    "\n",
    "# ROC eğrisi ve AUC hesaplama (CART için)\n",
    "fpr_cart, tpr_cart, thresholds_cart = roc_curve(y_test, y_probs_cart)\n",
    "auc_cart = roc_auc_score(y_test, y_probs_cart)\n",
    "\n",
    "print(\"CART AUC:\", auc_cart)"
   ]
  },
  {
   "cell_type": "code",
   "execution_count": null,
   "id": "5ee0a479",
   "metadata": {},
   "outputs": [],
   "source": [
    "# ROC eğrisini çizme\n",
    "plt.figure(figsize=(8, 6))\n",
    "plt.plot(fpr_cart, tpr_cart, color='blue', label='ROC Curve (AUC = %0.2f)' % auc_cart)\n",
    "plt.plot([0, 1], [0, 1], color='red', linestyle='--', label='Random Guessing')\n",
    "plt.xlabel('False Positive Rate (FPR)')\n",
    "plt.ylabel('True Positive Rate (TPR)')\n",
    "plt.title('Receiver Operating Characteristic (ROC) Curve')\n",
    "plt.legend()\n",
    "plt.grid()\n",
    "plt.show()\n"
   ]
  }
 ],
 "metadata": {
  "kernelspec": {
   "display_name": "Python 3 (ipykernel)",
   "language": "python",
   "name": "python3"
  },
  "language_info": {
   "codemirror_mode": {
    "name": "ipython",
    "version": 3
   },
   "file_extension": ".py",
   "mimetype": "text/x-python",
   "name": "python",
   "nbconvert_exporter": "python",
   "pygments_lexer": "ipython3",
   "version": "3.11.5"
  }
 },
 "nbformat": 4,
 "nbformat_minor": 5
}
